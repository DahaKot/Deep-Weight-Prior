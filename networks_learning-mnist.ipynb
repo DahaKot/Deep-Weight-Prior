{
 "cells": [
  {
   "cell_type": "code",
   "execution_count": 1,
   "metadata": {
    "colab": {},
    "colab_type": "code",
    "id": "7xYI7HXnHk0S"
   },
   "outputs": [],
   "source": [
    "import torch\n",
    "import torch.nn as nn\n",
    "import torchvision\n",
    "import torch.nn.functional as F\n",
    "import numpy as np\n",
    "\n",
    "from torch.utils.data import DataLoader\n",
    "import torchvision.transforms as tt\n",
    "\n",
    "import matplotlib.pyplot as plt\n",
    "import matplotlib"
   ]
  },
  {
   "cell_type": "code",
   "execution_count": 2,
   "metadata": {
    "colab": {},
    "colab_type": "code",
    "id": "wsW8AKUuHk0l"
   },
   "outputs": [],
   "source": [
    "BATCH_SIZE = 64\n",
    "N_EPOCHS   = 100\n",
    "N_TIMES = 10\n",
    "\n",
    "DATA_PATH = '../datasets/MNIST/'\n",
    "Z_DIM = 2"
   ]
  },
  {
   "cell_type": "code",
   "execution_count": 3,
   "metadata": {
    "colab": {},
    "colab_type": "code",
    "id": "55FMLtDJHk0u"
   },
   "outputs": [],
   "source": [
    "class VAE(nn.Module):\n",
    "    def __init__(self, D, d = Z_DIM):\n",
    "        super(VAE, self).__init__()\n",
    "        self.encoder = Encoder(d, D)\n",
    "        self.decoder = Decoder(d, D)\n",
    "        \n",
    "        #d - for latent space\n",
    "        #D - for kernel space\n",
    "        self.d = d\n",
    "        self.D = D\n",
    "        \n",
    "    def count_vlb(self, X, i):\n",
    "        #get parameters of z distribution\n",
    "        mu_z, var_z = self.encoder(X)\n",
    "\n",
    "        #sample latent(mu_z, var_z)\n",
    "        z = Normal(torch.zeros(mu_z.size()), torch.ones(mu_z.size())).sample()\n",
    "        z = mu_z + torch.sqrt(var_z) * nn.Parameter(z, requires_grad=False).to(device)\n",
    "        \n",
    "        latent_loss = 0.5 * (var_z + mu_z**2 - torch.log(var_z+1e-12) - 1).mean(dim=0).sum()\n",
    "        \n",
    "        #get parameters of x_hat distribution\n",
    "        mu_x, var_x = self.decoder(z)\n",
    "        normal = Normal(mu_x, torch.sqrt(var_x))\n",
    "        reconstruction_loss = normal.log_prob(X).mean(dim=0).sum()\n",
    "        \n",
    "        #minus since default optimizers minimize loss\n",
    "        return -(reconstruction_loss - latent_loss), latent_loss, reconstruction_loss\n",
    "                   \n",
    "    def generate_samples(self, num_samples):\n",
    "        z = torch.FloatTensor(np.random.normal(0, 1, size=[num_samples, self.d, 1, 1])).to(device)\n",
    "        return self.decoder(z)"
   ]
  },
  {
   "cell_type": "code",
   "execution_count": 4,
   "metadata": {},
   "outputs": [],
   "source": [
    "class Encoder(nn.Module):\n",
    "    def __init__(self, d, D):\n",
    "        super(Encoder, self).__init__()\n",
    "        self.D = D\n",
    "        self.d = d\n",
    "        \n",
    "        self.seq = nn.Sequential(\n",
    "            nn.Conv2d(1, 32, kernel_size=(3, 3), stride=(1, 1)),\n",
    "            nn.ELU(alpha=1.0),\n",
    "            nn.Conv2d(32, 64, kernel_size=(3, 3), stride=(1, 1)),\n",
    "            nn.ELU(alpha=1.0),\n",
    "            nn.Conv2d(64, 64, kernel_size=(3, 3), stride=(1, 1)),\n",
    "            nn.ELU(alpha=1.0)\n",
    "        )\n",
    "        \n",
    "        self.fc_mu = nn.Conv2d(64, Z_DIM, kernel_size=(1, 1), stride=(1, 1))\n",
    "        self.fc_var = nn.Sequential(\n",
    "            nn.Conv2d(64, 1, kernel_size=(1, 1), stride=(1, 1)),\n",
    "            nn.Softplus()\n",
    "        )\n",
    "        \n",
    "    def forward(self, X):\n",
    "        X = self.seq(X)\n",
    "        \n",
    "        mu = self.fc_mu(X)\n",
    "        var = self.fc_var(X)\n",
    "        \n",
    "        return mu, var"
   ]
  },
  {
   "cell_type": "code",
   "execution_count": 5,
   "metadata": {},
   "outputs": [],
   "source": [
    "class Decoder(nn.Module):\n",
    "    def __init__(self, d, D):\n",
    "        super(Decoder, self).__init__()\n",
    "        self.D = D\n",
    "        self.d = d\n",
    "        \n",
    "        self.seq = nn.Sequential(\n",
    "            nn.ConvTranspose2d(Z_DIM, 64, kernel_size=(3, 3), stride=(1, 1)),\n",
    "            nn.ELU(alpha=1.0),\n",
    "            nn.ConvTranspose2d(64, 64, kernel_size=(3, 3), stride=(1, 1)),\n",
    "            nn.ELU(alpha=1.0),\n",
    "            nn.ConvTranspose2d(64, 32, kernel_size=(3, 3), stride=(1, 1)),\n",
    "            nn.ELU(alpha=1.0)\n",
    "        )\n",
    "        self.fc_mu = nn.Conv2d(32, 1, kernel_size=(1, 1), stride=(1, 1))\n",
    "        self.fc_var = nn.Sequential(\n",
    "            nn.Conv2d(32, 1, kernel_size=(1, 1), stride=(1, 1)),\n",
    "            nn.Softplus()\n",
    "        )\n",
    "        \n",
    "    def forward(self, X):\n",
    "        X = self.seq(X)\n",
    "        \n",
    "        mu = self.fc_mu(X)\n",
    "        var = self.fc_var(X)\n",
    "        \n",
    "        return mu, var"
   ]
  },
  {
   "cell_type": "code",
   "execution_count": 6,
   "metadata": {},
   "outputs": [],
   "source": [
    "device='cuda'\n",
    "vae = VAE(49).to(device)\n",
    "vae.load_state_dict(torch.load(\"vae_weights.pth\"))"
   ]
  },
  {
   "cell_type": "code",
   "execution_count": 7,
   "metadata": {
    "colab": {},
    "colab_type": "code",
    "id": "nFT1DkRTHk07"
   },
   "outputs": [],
   "source": [
    "#load MNIST and transform data to tensor\n",
    "trans = tt.Compose([tt.ToTensor()]) \n",
    "\n",
    "train_dataset = torchvision.datasets.MNIST(root=DATA_PATH, train=True,  transform=trans, download=False) \n",
    "test_dataset  = torchvision.datasets.MNIST(root=DATA_PATH, train=False, transform=trans)\n",
    "\n",
    "train_loader = DataLoader(dataset=train_dataset, batch_size=BATCH_SIZE, shuffle=True) \n",
    "test_loader  = DataLoader(dataset=test_dataset,  batch_size=BATCH_SIZE, shuffle=False)"
   ]
  },
  {
   "cell_type": "code",
   "execution_count": 8,
   "metadata": {
    "colab": {},
    "colab_type": "code",
    "id": "hasw1qZ9Hk1E"
   },
   "outputs": [],
   "source": [
    "class Flatten(nn.Module):\n",
    "    def __init__(self):\n",
    "        super(Flatten, self).__init__()\n",
    "        \n",
    "    def forward(self, x):\n",
    "        return x.view(BATCH_SIZE, -1)"
   ]
  },
  {
   "cell_type": "code",
   "execution_count": 9,
   "metadata": {
    "colab": {},
    "colab_type": "code",
    "id": "gOn6BLw1Hk1P"
   },
   "outputs": [],
   "source": [
    "class FConvMNIST(nn.Module):\n",
    "    def __init__(self):\n",
    "        super(FConvMNIST, self).__init__()\n",
    "        \n",
    "        self.conv1   = nn.Conv2d(1, 32, kernel_size=(7, 7), stride=(1, 1))\n",
    "        self.relu    = nn.LeakyReLU(negative_slope=0.01)\n",
    "        self.maxpool = nn.MaxPool2d(kernel_size=2, stride=2, padding=0, dilation=1, ceil_mode=False)\n",
    "        self.conv2   = nn.Conv2d(32, 128, kernel_size=(5, 5), stride=(1, 1))\n",
    "        self.flat    = Flatten()\n",
    "        self.clf     = nn.Linear(in_features=1152, out_features=10, bias=True)\n",
    "        \n",
    "    def forward(self, x):\n",
    "        x = self.conv1(x)\n",
    "        x = self.relu(x)\n",
    "        x = self.maxpool(x)\n",
    "        \n",
    "        x = self.conv2(x)\n",
    "        x = self.relu(x)\n",
    "        x = self.maxpool(x)\n",
    "        \n",
    "        return self.clf(self.flat(x)) "
   ]
  },
  {
   "cell_type": "code",
   "execution_count": 10,
   "metadata": {
    "colab": {},
    "colab_type": "code",
    "id": "DAMGrwDSHk1p"
   },
   "outputs": [],
   "source": [
    "model = FConvMNIST().to(device)\n",
    "\n",
    "criterion = nn.CrossEntropyLoss()\n",
    "optimizer = torch.optim.Adam(model.parameters(), lr=1e-3)"
   ]
  },
  {
   "cell_type": "code",
   "execution_count": 11,
   "metadata": {},
   "outputs": [
    {
     "name": "stdout",
     "output_type": "stream",
     "text": [
      "1 tensor([[[-0.0356,  0.0978, -0.0737,  0.0705,  0.1203,  0.0370,  0.0920],\n",
      "         [-0.0601,  0.1051,  0.0111, -0.0678, -0.0777, -0.1013,  0.0734],\n",
      "         [ 0.0923,  0.0989, -0.0897, -0.0385, -0.0651,  0.0739,  0.1212],\n",
      "         [-0.0101, -0.1166, -0.0300, -0.1351,  0.0699,  0.0103, -0.1002],\n",
      "         [ 0.0930,  0.1244, -0.1297, -0.0319, -0.0926,  0.0665, -0.0851],\n",
      "         [-0.0166, -0.0750, -0.1383, -0.1172,  0.0592,  0.0979, -0.0634],\n",
      "         [ 0.0774,  0.0009, -0.0230, -0.1380,  0.1016,  0.1220,  0.0112]]],\n",
      "       device='cuda:0', grad_fn=<SelectBackward>)\n",
      "2 tensor([[[ 3.2607e-02,  3.7467e-02,  2.1381e-02,  1.8802e-02,  5.8605e-03,\n",
      "          -2.9485e-02, -5.8205e-02],\n",
      "         [ 1.0078e-02,  1.8295e-02,  1.2551e-04, -3.8441e-03, -2.2387e-02,\n",
      "          -5.3566e-02, -6.8741e-02],\n",
      "         [ 3.4360e-03, -2.8978e-03, -1.4809e-02, -3.6315e-02, -5.0455e-02,\n",
      "          -6.7407e-02, -5.0183e-02],\n",
      "         [ 1.1813e-02, -4.2189e-03, -4.1511e-02, -6.3111e-02, -6.1534e-02,\n",
      "          -5.5832e-02, -1.0334e-02],\n",
      "         [ 1.1288e-02, -1.1677e-02, -3.2431e-02, -4.7479e-02, -4.8549e-02,\n",
      "          -1.4409e-02,  5.1142e-02],\n",
      "         [-1.9772e-02, -2.7756e-02, -3.9261e-02, -4.5577e-02, -2.5865e-02,\n",
      "           1.4520e-02,  9.8849e-02],\n",
      "         [-1.4336e-02, -1.5508e-02, -6.6152e-04,  2.6822e-02,  6.7090e-02,\n",
      "           1.0873e-01,  1.6764e-01]]], device='cuda:0',\n",
      "       grad_fn=<SelectBackward>)\n"
     ]
    }
   ],
   "source": [
    "#init weight of the model with samples from vae\n",
    "print(\"1\", model.conv1.weight[0])\n",
    "model.conv1.weight = nn.Parameter(vae.generate_samples(32)[0])\n",
    "print(\"2\", model.conv1.weight[0])"
   ]
  },
  {
   "cell_type": "code",
   "execution_count": 12,
   "metadata": {},
   "outputs": [
    {
     "data": {
      "text/plain": [
       "<matplotlib.image.AxesImage at 0x7f0984f7e940>"
      ]
     },
     "execution_count": 12,
     "metadata": {},
     "output_type": "execute_result"
    },
    {
     "data": {
      "image/png": "[encoded data removed]",
      "text/plain": [
       "<Figure size 432x288 with 1 Axes>"
      ]
     },
     "metadata": {
      "needs_background": "light"
     },
     "output_type": "display_data"
    }
   ],
   "source": [
    "mu_x = model.conv1.weight.detach().cpu().numpy()\n",
    "plt.imshow(mu_x[4].reshape((7, 7)))"
   ]
  },
  {
   "cell_type": "code",
   "execution_count": 13,
   "metadata": {},
   "outputs": [],
   "source": [
    "#lists that will help to average data about accuracy\n",
    "vae_acc = []\n",
    "vanilla_acc = []"
   ]
  },
  {
   "cell_type": "code",
   "execution_count": 14,
   "metadata": {
    "colab": {},
    "colab_type": "code",
    "id": "EuvQlzkZHk12",
    "scrolled": true
   },
   "outputs": [],
   "source": [
    "for i in range(N_TIMES):\n",
    "    model = FConvMNIST().to(device)\n",
    "    criterion = nn.CrossEntropyLoss()\n",
    "    optimizer = torch.optim.Adam(model.parameters(), lr=1e-3)\n",
    "    \n",
    "    model.conv1.weight = nn.Parameter(vae.generate_samples(32)[0])\n",
    "    \n",
    "    loss_list = []\n",
    "    acc_list  = []\n",
    "    test_acc_list = []\n",
    "\n",
    "    N_STEPS = len(train_loader)\n",
    "\n",
    "    viewed_batches = 0\n",
    "    #train network\n",
    "    for j in range(N_EPOCHS):\n",
    "        for k, (images, labels) in enumerate(train_loader):\n",
    "            if (images.shape[0] < BATCH_SIZE):\n",
    "                    break\n",
    "            #forward\n",
    "            labels = labels.to(device)\n",
    "            pred = model(images.to(device))\n",
    "            loss = criterion(pred, labels)\n",
    "            loss_list.append(loss.item())\n",
    "\n",
    "            #backward\n",
    "            optimizer.zero_grad()\n",
    "            loss.backward()\n",
    "            optimizer.step()\n",
    "            viewed_batches += 1\n",
    "\n",
    "#             if viewed_batches % 50 == 0:\n",
    "#                 print(\"samples \", viewed_batches * BATCH_SIZE)\n",
    "\n",
    "            #statictics\n",
    "            total = labels.size(0)\n",
    "            _, predicted = torch.max(pred.data, 1)\n",
    "\n",
    "            correct = (predicted == labels).sum().item()\n",
    "            acc_list.append(correct / total)\n",
    "\n",
    "            test_acc = []\n",
    "            for i, (test_images, test_labels) in enumerate(test_loader):\n",
    "                if (test_images.shape[0] < BATCH_SIZE):\n",
    "                    break\n",
    "                test_labels = test_labels.to(device)\n",
    "                pred = model(test_images.to(device))\n",
    "\n",
    "                #statictics\n",
    "                total = test_labels.size(0)\n",
    "                _, predicted = torch.max(pred.data, 1)\n",
    "\n",
    "                correct = (predicted == test_labels).sum().item()\n",
    "                test_acc.append(correct / total)\n",
    "\n",
    "            test_acc_list.append(np.mean(test_acc))\n",
    "\n",
    "            if viewed_batches == 100:\n",
    "                break\n",
    "        if viewed_batches == 100:\n",
    "            break\n",
    "            \n",
    "    vae_acc.append(test_acc_list)\n"
   ]
  },
  {
   "cell_type": "code",
   "execution_count": 15,
   "metadata": {},
   "outputs": [
    {
     "data": {
      "image/png": "[encoded data removed]",
      "text/plain": [
       "<Figure size 432x288 with 1 Axes>"
      ]
     },
     "metadata": {
      "needs_background": "light"
     },
     "output_type": "display_data"
    }
   ],
   "source": [
    "plt.figure()\n",
    "plt.plot([i for i in range(len(acc_list))], acc_list, label = 'train_accuracy')\n",
    "plt.plot([i for i in range(len(vae_acc[0]))], np.mean(vae_acc, axis = 0), label = 'test_accuracy')\n",
    "\n",
    "plt.xlabel('iter')\n",
    "plt.ylabel('accuracy')\n",
    "plt.legend()\n",
    "\n",
    "plt.show()"
   ]
  },
  {
   "cell_type": "code",
   "execution_count": 16,
   "metadata": {},
   "outputs": [
    {
     "name": "stdout",
     "output_type": "stream",
     "text": [
      "938\n",
      "938\n",
      "938\n",
      "938\n",
      "938\n",
      "938\n",
      "938\n",
      "938\n",
      "938\n",
      "938\n"
     ]
    }
   ],
   "source": [
    "#now train models without initizialisation with vae samples\n",
    "for i in range(N_TIMES):\n",
    "    model = FConvMNIST().to(device)\n",
    "    criterion = nn.CrossEntropyLoss()\n",
    "    optimizer = torch.optim.Adam(model.parameters(), lr=1e-3)\n",
    "\n",
    "    vanilla_loss_list = []\n",
    "    vanilla_acc_list  = []\n",
    "    vanilla_test_acc_list = []\n",
    "\n",
    "    N_STEPS = len(train_loader)\n",
    "    print(N_STEPS)\n",
    "    viewed_batches = 0\n",
    "    #train network\n",
    "    for j in range(N_EPOCHS):\n",
    "        for k, (images, labels) in enumerate(train_loader):\n",
    "            if (images.shape[0] < BATCH_SIZE):\n",
    "                    break\n",
    "            #forward\n",
    "            labels = labels.to(device)\n",
    "            pred = model(images.to(device))\n",
    "            loss = criterion(pred, labels)\n",
    "            vanilla_loss_list.append(loss.item())\n",
    "\n",
    "            #backward\n",
    "            optimizer.zero_grad()\n",
    "            loss.backward()\n",
    "            optimizer.step()\n",
    "            viewed_batches += 1\n",
    "\n",
    "#             if viewed_batches % 50 == 0:\n",
    "#                 print(\"samples \", viewed_batches * BATCH_SIZE)\n",
    "\n",
    "            #statictics\n",
    "            total = labels.size(0)\n",
    "            _, predicted = torch.max(pred.data, 1)\n",
    "\n",
    "            correct = (predicted == labels).sum().item()\n",
    "            vanilla_acc_list.append(correct / total)\n",
    "\n",
    "            vanilla_test = []\n",
    "            for i, (test_images, test_labels) in enumerate(test_loader):\n",
    "                if (i > 20 or test_images.shape[0] < BATCH_SIZE):\n",
    "                    break\n",
    "                test_labels = test_labels.to(device)\n",
    "                pred = model(test_images.to(device))\n",
    "                optimizer.step()\n",
    "\n",
    "                #statictics\n",
    "                total = test_labels.size(0)\n",
    "                _, predicted = torch.max(pred.data, 1)\n",
    "\n",
    "                correct = (predicted == test_labels).sum().item()\n",
    "                vanilla_test.append(correct / total)\n",
    "\n",
    "            vanilla_test_acc_list.append(np.mean(vanilla_test))\n",
    "\n",
    "            if viewed_batches == 100:\n",
    "                break\n",
    "        if viewed_batches == 100:\n",
    "            break\n",
    "            \n",
    "    vanilla_acc.append(vanilla_test_acc_list)"
   ]
  },
  {
   "cell_type": "code",
   "execution_count": 17,
   "metadata": {},
   "outputs": [
    {
     "data": {
      "image/png": "[encoded data removed]",
      "text/plain": [
       "<Figure size 864x720 with 1 Axes>"
      ]
     },
     "metadata": {
      "needs_background": "light"
     },
     "output_type": "display_data"
    }
   ],
   "source": [
    "plt.figure(figsize=(12, 10))\n",
    "matplotlib.rcParams.update({'font.size': 16})\n",
    "\n",
    "#plot dependency accuracy on test from size of train dataset\n",
    "plt.plot(np.linspace(0, 6400, len(np.mean(vae_acc, axis = 0))), np.mean(vae_acc, axis = 0), label = 'vae_test_acc')\n",
    "plt.plot(np.linspace(0, 6400, len(np.mean(vae_acc, axis = 0))), np.mean(vanilla_acc, axis = 0), label = 'xav_test_acc')\n",
    "\n",
    "plt.xlabel('n samples')\n",
    "plt.ylabel('accuracy')\n",
    "plt.legend()\n",
    "plt.grid()\n",
    "plt.show()"
   ]
  },
  {
   "cell_type": "code",
   "execution_count": null,
   "metadata": {},
   "outputs": [],
   "source": []
  }
 ],
 "metadata": {
  "colab": {
   "name": "hundred_networks.ipynb",
   "provenance": [],
   "version": "0.3.2"
  },
  "kernelspec": {
   "display_name": "pytorch",
   "language": "python",
   "name": "pytorch"
  },
  "language_info": {
   "codemirror_mode": {
    "name": "ipython",
    "version": 3
   },
   "file_extension": ".py",
   "mimetype": "text/x-python",
   "name": "python",
   "nbconvert_exporter": "python",
   "pygments_lexer": "ipython3",
   "version": "3.7.3"
  }
 },
 "nbformat": 4,
 "nbformat_minor": 1
}
