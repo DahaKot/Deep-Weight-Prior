{
 "cells": [
  {
   "cell_type": "code",
   "execution_count": 1,
   "metadata": {
    "colab": {},
    "colab_type": "code",
    "id": "7xYI7HXnHk0S"
   },
   "outputs": [],
   "source": [
    "import torch\n",
    "import torch.nn as nn\n",
    "import torch.nn.functional as F\n",
    "import numpy as np\n",
    "from torch.utils.data import DataLoader\n",
    "import torchvision\n",
    "import torchvision.transforms as tt\n",
    "import matplotlib.pyplot as plt"
   ]
  },
  {
   "cell_type": "code",
   "execution_count": 2,
   "metadata": {
    "colab": {},
    "colab_type": "code",
    "id": "wsW8AKUuHk0l"
   },
   "outputs": [],
   "source": [
    "BATCH_SIZE = 64\n",
    "N_EPOCHS   = 100\n",
    "DATA_PATH = './MNIST'\n",
    "Z_DIM = 2"
   ]
  },
  {
   "cell_type": "code",
   "execution_count": 3,
   "metadata": {
    "colab": {},
    "colab_type": "code",
    "id": "55FMLtDJHk0u"
   },
   "outputs": [],
   "source": [
    "class VAE(nn.Module):\n",
    "    def __init__(self, D, d = Z_DIM):\n",
    "        super(VAE, self).__init__()\n",
    "        self.encoder = Encoder(d, D)\n",
    "        self.decoder = Decoder(d, D)\n",
    "        \n",
    "        #d - for latent space\n",
    "        self.d = d\n",
    "        self.D = D\n",
    "        \n",
    "    def count_vlb(self, X, i):\n",
    "        #get parameters of z distribution\n",
    "        mu_z, var_z = self.encoder(X)\n",
    "\n",
    "        #sample latent(mu_z, var_z)\n",
    "        z = Normal(torch.zeros(mu_z.size()), torch.ones(mu_z.size())).sample()\n",
    "        z = mu_z + torch.sqrt(var_z) * nn.Parameter(z, requires_grad=False)\n",
    "              \n",
    "        #get parameters of x_hat distribution\n",
    "        mu_x, var_x = self.decoder(z)\n",
    "                \n",
    "        normal = Normal(mu_x, torch.sqrt(var_x))\n",
    "        diagn = torch.distributions.Independent(normal, 1)\n",
    "         \n",
    "        #count loss\n",
    "        latent_loss = 0.5 * torch.sum(var_x + mu_x**2 - torch.log(var_x+1e-12) - 1)\n",
    "        reconstruction_loss = diagn.log_prob(X)\n",
    "        \n",
    "        #coefs are to be chosen\n",
    "        return -(torch.sum(reconstruction_loss) - latent_loss), latent_loss, torch.sum(reconstruction_loss)\n",
    "                   \n",
    "    def generate_samples(self, num_samples):\n",
    "        z = torch.FloatTensor(np.random.normal(0, 1, size=[num_samples, self.d, 1, 1]))\n",
    "        return self.decoder(z)"
   ]
  },
  {
   "cell_type": "code",
   "execution_count": 4,
   "metadata": {},
   "outputs": [],
   "source": [
    "class Encoder(nn.Module):\n",
    "    def __init__(self, d, D):\n",
    "        super(Encoder, self).__init__()\n",
    "        self.D = D\n",
    "        self.d = d\n",
    "        \n",
    "        self.seq = nn.Sequential(\n",
    "            nn.Conv2d(1, 32, kernel_size=(3, 3), stride=(1, 1)),\n",
    "            nn.ELU(alpha=1.0),\n",
    "            nn.Conv2d(32, 64, kernel_size=(3, 3), stride=(1, 1)),\n",
    "            nn.ELU(alpha=1.0),\n",
    "            nn.Conv2d(64, 64, kernel_size=(3, 3), stride=(1, 1)),\n",
    "            nn.ELU(alpha=1.0)\n",
    "        )\n",
    "        \n",
    "        self.fc_mu = nn.Conv2d(64, Z_DIM, kernel_size=(1, 1), stride=(1, 1))\n",
    "        self.fc_var = nn.Sequential(\n",
    "            nn.Conv2d(64, 1, kernel_size=(1, 1), stride=(1, 1)),\n",
    "            nn.Softplus()\n",
    "        )\n",
    "        \n",
    "    def forward(self, X):\n",
    "        X = self.seq(X)\n",
    "        \n",
    "        mu = self.fc_mu(X)\n",
    "        var = self.fc_var(X)\n",
    "        \n",
    "        return mu, var"
   ]
  },
  {
   "cell_type": "code",
   "execution_count": 5,
   "metadata": {},
   "outputs": [],
   "source": [
    "class Decoder(nn.Module):\n",
    "    def __init__(self, d, D):\n",
    "        super(Decoder, self).__init__()\n",
    "        self.D = D\n",
    "        self.d = d\n",
    "        \n",
    "        self.seq = nn.Sequential(\n",
    "            nn.ConvTranspose2d(Z_DIM, 64, kernel_size=(3, 3), stride=(1, 1)),\n",
    "            nn.ELU(alpha=1.0),\n",
    "            nn.ConvTranspose2d(64, 64, kernel_size=(3, 3), stride=(1, 1)),\n",
    "            nn.ELU(alpha=1.0),\n",
    "            nn.ConvTranspose2d(64, 32, kernel_size=(3, 3), stride=(1, 1)),\n",
    "            nn.ELU(alpha=1.0)\n",
    "        )\n",
    "        self.fc_mu = nn.Conv2d(32, 1, kernel_size=(1, 1), stride=(1, 1))\n",
    "        self.fc_var = nn.Sequential(\n",
    "            nn.Conv2d(32, 1, kernel_size=(1, 1), stride=(1, 1)),\n",
    "            nn.Softplus()\n",
    "        )\n",
    "        \n",
    "    def forward(self, X):\n",
    "        X = self.seq(X)\n",
    "        \n",
    "        mu = self.fc_mu(X)\n",
    "        var = self.fc_var(X)\n",
    "        \n",
    "        return mu, var"
   ]
  },
  {
   "cell_type": "code",
   "execution_count": 6,
   "metadata": {},
   "outputs": [],
   "source": [
    "vae = VAE(49)\n",
    "vae.load_state_dict(torch.load(\"vae_weights_poor.pth\"))"
   ]
  },
  {
   "cell_type": "code",
   "execution_count": 7,
   "metadata": {
    "colab": {},
    "colab_type": "code",
    "id": "nFT1DkRTHk07"
   },
   "outputs": [],
   "source": [
    "#transform data to tensor and normalize (values state for MNIST!)\n",
    "trans = tt.Compose([tt.ToTensor(), tt.Normalize((0.1307,), (0.3081,))]) \n",
    "\n",
    "train_dataset = torchvision.datasets.MNIST(root=DATA_PATH, train=True,  transform=trans, download=True) \n",
    "test_dataset  = torchvision.datasets.MNIST(root=DATA_PATH, train=False, transform=trans)\n",
    "\n",
    "train_loader = DataLoader(dataset=train_dataset, batch_size=BATCH_SIZE, shuffle=True) \n",
    "test_loader  = DataLoader(dataset=test_dataset,  batch_size=BATCH_SIZE, shuffle=False)"
   ]
  },
  {
   "cell_type": "code",
   "execution_count": 8,
   "metadata": {
    "colab": {},
    "colab_type": "code",
    "id": "hasw1qZ9Hk1E"
   },
   "outputs": [],
   "source": [
    "class Flatten(nn.Module):\n",
    "    def __init__(self):\n",
    "        super(Flatten, self).__init__()\n",
    "        \n",
    "    def forward(self, x):\n",
    "        return x.view(BATCH_SIZE, -1)"
   ]
  },
  {
   "cell_type": "code",
   "execution_count": 9,
   "metadata": {
    "colab": {},
    "colab_type": "code",
    "id": "gOn6BLw1Hk1P"
   },
   "outputs": [],
   "source": [
    "class FConvMNIST(nn.Module):\n",
    "    def __init__(self):\n",
    "        super(FConvMNIST, self).__init__()\n",
    "        \n",
    "        self.conv1   = nn.Conv2d(1, 32, kernel_size=(7, 7), stride=(1, 1))\n",
    "        self.relu    = nn.LeakyReLU(negative_slope=0.01)\n",
    "        self.maxpool = nn.MaxPool2d(kernel_size=2, stride=2, padding=0, dilation=1, ceil_mode=False)\n",
    "        self.conv2   = nn.Conv2d(32, 128, kernel_size=(5, 5), stride=(1, 1))\n",
    "        self.flat    = Flatten()\n",
    "        self.clf     = nn.Linear(in_features=1152, out_features=10, bias=True)\n",
    "        \n",
    "    def forward(self, x):\n",
    "        x = self.conv1(x)\n",
    "        x = self.relu(x)\n",
    "        x = self.maxpool(x)\n",
    "        \n",
    "        x = self.conv2(x)\n",
    "        x = self.relu(x)\n",
    "        x = self.maxpool(x)\n",
    "        \n",
    "        return self.clf(self.flat(x)) "
   ]
  },
  {
   "cell_type": "code",
   "execution_count": 10,
   "metadata": {
    "colab": {},
    "colab_type": "code",
    "id": "DAMGrwDSHk1p"
   },
   "outputs": [],
   "source": [
    "device='cpu'\n",
    "model = FConvMNIST().to(device)\n",
    "criterion = nn.CrossEntropyLoss()\n",
    "optimizer = torch.optim.Adam(model.parameters(), lr=1e-3)"
   ]
  },
  {
   "cell_type": "code",
   "execution_count": 11,
   "metadata": {},
   "outputs": [
    {
     "name": "stdout",
     "output_type": "stream",
     "text": [
      "1 tensor([[[ 0.1388,  0.0439,  0.0166,  0.0394, -0.0350, -0.0170, -0.1273],\n",
      "         [ 0.0224, -0.0332, -0.0961, -0.1031,  0.1148, -0.0334,  0.1130],\n",
      "         [ 0.0829, -0.0657, -0.0702, -0.1327,  0.1286,  0.0862,  0.1243],\n",
      "         [-0.1400,  0.0953,  0.0309, -0.0088,  0.0448,  0.0271,  0.0378],\n",
      "         [-0.0952,  0.1046,  0.1334, -0.0874,  0.1298, -0.0181, -0.0207],\n",
      "         [ 0.0098,  0.0022,  0.0354, -0.0279, -0.1103,  0.1132,  0.1069],\n",
      "         [ 0.1006,  0.0613, -0.1103,  0.0134,  0.0420, -0.0094,  0.0559]]])\n",
      "2 tensor([[[ 0.0200,  0.0178,  0.0281,  0.0297,  0.0316,  0.0284,  0.0291],\n",
      "         [ 0.0150, -0.0104, -0.0288, -0.0375, -0.0385, -0.0126,  0.0228],\n",
      "         [ 0.0099, -0.0357, -0.0835, -0.1107, -0.1177, -0.0508,  0.0306],\n",
      "         [ 0.0133, -0.0387, -0.0945, -0.1274, -0.1357, -0.0578,  0.0373],\n",
      "         [ 0.0178, -0.0303, -0.0786, -0.1062, -0.1054, -0.0281,  0.0565],\n",
      "         [ 0.0213, -0.0044, -0.0198, -0.0288, -0.0175,  0.0246,  0.0618],\n",
      "         [ 0.0238,  0.0240,  0.0466,  0.0516,  0.0621,  0.0622,  0.0593]]])\n"
     ]
    }
   ],
   "source": [
    "print(\"1\", model.conv1.weight[0])\n",
    "model.conv1.weight = nn.Parameter(vae.generate_samples(32)[0])\n",
    "print(\"2\", model.conv1.weight[0])"
   ]
  },
  {
   "cell_type": "code",
   "execution_count": 12,
   "metadata": {
    "colab": {},
    "colab_type": "code",
    "id": "EuvQlzkZHk12",
    "scrolled": true
   },
   "outputs": [
    {
     "name": "stdout",
     "output_type": "stream",
     "text": [
      "938\n",
      "***stat_block***\n",
      "Epoch:  0 Step:  0 Loss:  2.2698795795440674\n",
      "Train_acc:  21.875\n",
      "Test_acc:  15.915464743589745\n",
      "***stat_block***\n",
      "Epoch:  4 Step:  0 Loss:  0.0008540319395251572\n",
      "Train_acc:  90.27490664177114\n",
      "Test_acc:  36.65364583333333\n",
      "***stat_block***\n",
      "Epoch:  8 Step:  0 Loss:  0.07792149484157562\n",
      "Train_acc:  93.39819261037748\n",
      "Test_acc:  31.453659188034187\n",
      "***stat_block***\n",
      "Epoch:  12 Step:  0 Loss:  0.06312043219804764\n",
      "Train_acc:  94.3377612272121\n",
      "Test_acc:  35.33153044871795\n",
      "***stat_block***\n",
      "Epoch:  16 Step:  0 Loss:  0.11340978741645813\n",
      "Train_acc:  95.10261038484626\n",
      "Test_acc:  33.062900641025635\n",
      "***stat_block***\n",
      "Epoch:  20 Step:  0 Loss:  0.15314257144927979\n",
      "Train_acc:  95.27089669708127\n",
      "Test_acc:  31.95779914529914\n",
      "***stat_block***\n",
      "Epoch:  24 Step:  0 Loss:  0.10230546444654465\n",
      "Train_acc:  95.45506970074258\n",
      "Test_acc:  32.2101076007326\n",
      "***stat_block***\n",
      "Epoch:  28 Step:  0 Loss:  0.19477829337120056\n",
      "Train_acc:  95.61842531539429\n",
      "Test_acc:  32.46569511217949\n",
      "***stat_block***\n",
      "Epoch:  32 Step:  0 Loss:  0.025582250207662582\n",
      "Train_acc:  95.7715315991329\n",
      "Test_acc:  32.405181623931625\n",
      "***stat_block***\n",
      "Epoch:  36 Step:  0 Loss:  0.005055404268205166\n",
      "Train_acc:  95.96166958171524\n",
      "Test_acc:  38.493589743589745\n",
      "***stat_block***\n",
      "Epoch:  40 Step:  0 Loss:  0.048427484929561615\n",
      "Train_acc:  96.26498259117953\n",
      "Test_acc:  38.864000582750585\n",
      "***stat_block***\n",
      "Epoch:  44 Step:  0 Loss:  0.03672688081860542\n",
      "Train_acc:  96.38331029129982\n",
      "Test_acc:  39.20105502136752\n",
      "***stat_block***\n",
      "Epoch:  48 Step:  0 Loss:  0.18656936287879944\n",
      "Train_acc:  96.52322298063454\n",
      "Test_acc:  40.47784146942801\n",
      "***stat_block***\n",
      "Epoch:  52 Step:  0 Loss:  0.07691626995801926\n",
      "Train_acc:  96.64282965623397\n",
      "Test_acc:  41.07786744505494\n",
      "***stat_block***\n",
      "Epoch:  56 Step:  0 Loss:  0.0007991668535396457\n",
      "Train_acc:  96.73180135498257\n",
      "Test_acc:  44.80168269230769\n",
      "***stat_block***\n",
      "Epoch:  60 Step:  0 Loss:  0.004864152986556292\n",
      "Train_acc:  96.90846169580762\n",
      "Test_acc:  46.05618990384615\n",
      "***stat_block***\n",
      "Epoch:  64 Step:  0 Loss:  0.0002707748208194971\n",
      "Train_acc:  97.04026767996798\n",
      "Test_acc:  49.105627828054295\n",
      "***stat_block***\n",
      "Epoch:  68 Step:  0 Loss:  5.792844240204431e-05\n",
      "Train_acc:  97.19727466767111\n",
      "Test_acc:  51.82514245014245\n",
      "***stat_block***\n",
      "Epoch:  72 Step:  0 Loss:  7.760433800285682e-05\n",
      "Train_acc:  97.33963907211147\n",
      "Test_acc:  54.252066464237515\n",
      "***stat_block***\n",
      "Epoch:  76 Step:  0 Loss:  0.004675825592130423\n",
      "Train_acc:  97.47059437883533\n",
      "Test_acc:  53.92127403846154\n",
      "***stat_block***\n",
      "Epoch:  80 Step:  0 Loss:  0.00018156127771362662\n",
      "Train_acc:  97.5322167527114\n",
      "Test_acc:  56.01629273504274\n",
      "***stat_block***\n",
      "Epoch:  84 Step:  0 Loss:  1.9766349623751012e-07\n",
      "Train_acc:  97.63710312670723\n",
      "Test_acc:  57.92950539044289\n",
      "***stat_block***\n",
      "Epoch:  88 Step:  0 Loss:  4.672958908713554e-08\n",
      "Train_acc:  97.73717285979359\n",
      "Test_acc:  59.64673913043478\n",
      "***stat_block***\n",
      "Epoch:  92 Step:  0 Loss:  4.092402377864346e-06\n",
      "Train_acc:  97.82950162403573\n",
      "Test_acc:  61.23881543803419\n",
      "***stat_block***\n",
      "Epoch:  96 Step:  0 Loss:  0.00032943696714937687\n",
      "Train_acc:  97.91483121741354\n",
      "Test_acc:  62.708333333333336\n"
     ]
    }
   ],
   "source": [
    "loss_list = []\n",
    "acc_list  = []\n",
    "test_acc_list = []\n",
    "\n",
    "N_STEPS = len(train_loader)\n",
    "print(N_STEPS)\n",
    "\n",
    "#train network\n",
    "for j in range(N_EPOCHS):\n",
    "    for k, (images, labels) in enumerate(train_loader):\n",
    "        if (images.shape[0] < BATCH_SIZE):\n",
    "                break\n",
    "        #forward\n",
    "        labels = labels.to(device)\n",
    "        pred = model(images.to(device))\n",
    "        loss = criterion(pred, labels)\n",
    "        loss_list.append(loss.item())\n",
    "\n",
    "        #backward\n",
    "        optimizer.zero_grad()\n",
    "        loss.backward()\n",
    "        optimizer.step()\n",
    "\n",
    "        #statictics\n",
    "        total = labels.size(0)\n",
    "        _, predicted = torch.max(pred.data, 1)\n",
    "\n",
    "        correct = (predicted == labels).sum().item()\n",
    "        acc_list.append(correct / total)\n",
    "\n",
    "        if j % 4 == 0 and k == 0:\n",
    "            for i, (test_images, test_labels) in enumerate(test_loader):\n",
    "                if (test_images.shape[0] < BATCH_SIZE):\n",
    "                    break\n",
    "                test_labels = test_labels.to(device)\n",
    "                pred = model(test_images.to(device))\n",
    "                optimizer.step()\n",
    "\n",
    "                #statictics\n",
    "                total = test_labels.size(0)\n",
    "                _, predicted = torch.max(pred.data, 1)\n",
    "\n",
    "                correct = (predicted == test_labels).sum().item()\n",
    "                test_acc_list.append(correct / total)\n",
    "                \n",
    "            print(\"***stat_block***\")\n",
    "            print(\"Epoch: \", j, \"Step: \", k, \"Loss: \", loss.item())\n",
    "            print(\"Train_acc: \", (sum(acc_list) / len(acc_list)) * 100)\n",
    "            print(\"Test_acc: \", (sum(test_acc_list) / len(test_acc_list)) * 100)"
   ]
  },
  {
   "cell_type": "code",
   "execution_count": 20,
   "metadata": {},
   "outputs": [
    {
     "data": {
      "image/png": "[encoded data removed]",
      "text/plain": [
       "<Figure size 432x288 with 1 Axes>"
      ]
     },
     "metadata": {
      "needs_background": "light"
     },
     "output_type": "display_data"
    }
   ],
   "source": [
    "import matplotlib.pyplot as plt\n",
    "\n",
    "plt.figure()\n",
    "plt.plot([i for i in range(len(acc_list))], acc_list, label = 'train_accuracy')\n",
    "plt.plot([i for i in range(len(test_acc_list))], test_acc_list, label = 'test_accuracy')\n",
    "\n",
    "plt.xlabel('iter')\n",
    "plt.ylabel('accuracy')\n",
    "plt.legend()\n",
    "\n",
    "plt.show()"
   ]
  },
  {
   "cell_type": "code",
   "execution_count": 14,
   "metadata": {},
   "outputs": [],
   "source": [
    "model = FConvMNIST().to(device)\n",
    "criterion = nn.CrossEntropyLoss()\n",
    "optimizer = torch.optim.Adam(model.parameters(), lr=1e-3)"
   ]
  },
  {
   "cell_type": "code",
   "execution_count": 15,
   "metadata": {},
   "outputs": [
    {
     "name": "stdout",
     "output_type": "stream",
     "text": [
      "938\n",
      "***stat_block***\n",
      "Epoch:  0 Step:  0 Loss:  2.3168842792510986\n",
      "Train_acc:  17.1875\n",
      "Test_acc:  16.964285714285715\n",
      "***stat_block***\n",
      "Epoch:  4 Step:  0 Loss:  0.0401463508605957\n",
      "Train_acc:  96.82915444118431\n",
      "Test_acc:  44.60565476190476\n",
      "***stat_block***\n",
      "Epoch:  8 Step:  0 Loss:  0.016321390867233276\n",
      "Train_acc:  97.92687908496733\n",
      "Test_acc:  61.458333333333336\n",
      "***stat_block***\n",
      "Epoch:  12 Step:  0 Loss:  0.012807749211788177\n",
      "Train_acc:  98.45778679413073\n",
      "Test_acc:  69.21502976190477\n",
      "***stat_block***\n",
      "Epoch:  16 Step:  0 Loss:  0.00014500549877993762\n",
      "Train_acc:  98.75723254185287\n",
      "Test_acc:  75.04464285714286\n",
      "***stat_block***\n",
      "Epoch:  20 Step:  0 Loss:  0.00010264674347126856\n",
      "Train_acc:  98.9676711488181\n",
      "Test_acc:  78.9310515873016\n",
      "***stat_block***\n",
      "Epoch:  24 Step:  0 Loss:  9.934773697750643e-05\n",
      "Train_acc:  99.10963415447553\n",
      "Test_acc:  81.71768707482994\n",
      "***stat_block***\n",
      "Epoch:  28 Step:  0 Loss:  1.9746348698390648e-05\n",
      "Train_acc:  99.21657630445554\n",
      "Test_acc:  83.72395833333334\n",
      "***stat_block***\n",
      "Epoch:  32 Step:  0 Loss:  7.239874477704689e-09\n",
      "Train_acc:  99.29787810571953\n",
      "Test_acc:  85.41666666666666\n",
      "***stat_block***\n",
      "Epoch:  36 Step:  0 Loss:  1.5073535905685276e-05\n",
      "Train_acc:  99.36120601488156\n",
      "Test_acc:  86.74107142857143\n",
      "***stat_block***\n",
      "Epoch:  40 Step:  0 Loss:  4.261182766640559e-05\n",
      "Train_acc:  99.41395306955523\n",
      "Test_acc:  87.83143939393939\n",
      "***stat_block***\n",
      "Epoch:  44 Step:  0 Loss:  2.0783707199711898e-08\n",
      "Train_acc:  99.4573373717529\n",
      "Test_acc:  88.74627976190477\n",
      "***stat_block***\n",
      "Epoch:  48 Step:  0 Loss:  6.119598197074083e-07\n",
      "Train_acc:  99.49383851746448\n",
      "Test_acc:  89.51465201465201\n",
      "***stat_block***\n",
      "Epoch:  52 Step:  0 Loss:  6.04588046293486e-11\n",
      "Train_acc:  99.52616726526425\n",
      "Test_acc:  90.14136904761905\n"
     ]
    },
    {
     "ename": "KeyboardInterrupt",
     "evalue": "",
     "output_type": "error",
     "traceback": [
      "\u001b[0;31m---------------------------------------------------------------------------\u001b[0m",
      "\u001b[0;31mKeyboardInterrupt\u001b[0m                         Traceback (most recent call last)",
      "\u001b[0;32m<ipython-input-15-dafbad8f901e>\u001b[0m in \u001b[0;36m<module>\u001b[0;34m\u001b[0m\n\u001b[1;32m     19\u001b[0m         \u001b[0;31m#backward\u001b[0m\u001b[0;34m\u001b[0m\u001b[0;34m\u001b[0m\u001b[0;34m\u001b[0m\u001b[0m\n\u001b[1;32m     20\u001b[0m         \u001b[0moptimizer\u001b[0m\u001b[0;34m.\u001b[0m\u001b[0mzero_grad\u001b[0m\u001b[0;34m(\u001b[0m\u001b[0;34m)\u001b[0m\u001b[0;34m\u001b[0m\u001b[0;34m\u001b[0m\u001b[0m\n\u001b[0;32m---> 21\u001b[0;31m         \u001b[0mloss\u001b[0m\u001b[0;34m.\u001b[0m\u001b[0mbackward\u001b[0m\u001b[0;34m(\u001b[0m\u001b[0;34m)\u001b[0m\u001b[0;34m\u001b[0m\u001b[0;34m\u001b[0m\u001b[0m\n\u001b[0m\u001b[1;32m     22\u001b[0m         \u001b[0moptimizer\u001b[0m\u001b[0;34m.\u001b[0m\u001b[0mstep\u001b[0m\u001b[0;34m(\u001b[0m\u001b[0;34m)\u001b[0m\u001b[0;34m\u001b[0m\u001b[0;34m\u001b[0m\u001b[0m\n\u001b[1;32m     23\u001b[0m \u001b[0;34m\u001b[0m\u001b[0m\n",
      "\u001b[0;32m~/anaconda3/envs/py36/lib/python3.6/site-packages/torch/tensor.py\u001b[0m in \u001b[0;36mbackward\u001b[0;34m(self, gradient, retain_graph, create_graph)\u001b[0m\n\u001b[1;32m     91\u001b[0m                 \u001b[0mproducts\u001b[0m\u001b[0;34m.\u001b[0m \u001b[0mDefaults\u001b[0m \u001b[0mto\u001b[0m\u001b[0;31m \u001b[0m\u001b[0;31m`\u001b[0m\u001b[0;31m`\u001b[0m\u001b[0;32mFalse\u001b[0m\u001b[0;31m`\u001b[0m\u001b[0;31m`\u001b[0m\u001b[0;34m.\u001b[0m\u001b[0;34m\u001b[0m\u001b[0;34m\u001b[0m\u001b[0m\n\u001b[1;32m     92\u001b[0m         \"\"\"\n\u001b[0;32m---> 93\u001b[0;31m         \u001b[0mtorch\u001b[0m\u001b[0;34m.\u001b[0m\u001b[0mautograd\u001b[0m\u001b[0;34m.\u001b[0m\u001b[0mbackward\u001b[0m\u001b[0;34m(\u001b[0m\u001b[0mself\u001b[0m\u001b[0;34m,\u001b[0m \u001b[0mgradient\u001b[0m\u001b[0;34m,\u001b[0m \u001b[0mretain_graph\u001b[0m\u001b[0;34m,\u001b[0m \u001b[0mcreate_graph\u001b[0m\u001b[0;34m)\u001b[0m\u001b[0;34m\u001b[0m\u001b[0;34m\u001b[0m\u001b[0m\n\u001b[0m\u001b[1;32m     94\u001b[0m \u001b[0;34m\u001b[0m\u001b[0m\n\u001b[1;32m     95\u001b[0m     \u001b[0;32mdef\u001b[0m \u001b[0mregister_hook\u001b[0m\u001b[0;34m(\u001b[0m\u001b[0mself\u001b[0m\u001b[0;34m,\u001b[0m \u001b[0mhook\u001b[0m\u001b[0;34m)\u001b[0m\u001b[0;34m:\u001b[0m\u001b[0;34m\u001b[0m\u001b[0;34m\u001b[0m\u001b[0m\n",
      "\u001b[0;32m~/anaconda3/envs/py36/lib/python3.6/site-packages/torch/autograd/__init__.py\u001b[0m in \u001b[0;36mbackward\u001b[0;34m(tensors, grad_tensors, retain_graph, create_graph, grad_variables)\u001b[0m\n\u001b[1;32m     87\u001b[0m     Variable._execution_engine.run_backward(\n\u001b[1;32m     88\u001b[0m         \u001b[0mtensors\u001b[0m\u001b[0;34m,\u001b[0m \u001b[0mgrad_tensors\u001b[0m\u001b[0;34m,\u001b[0m \u001b[0mretain_graph\u001b[0m\u001b[0;34m,\u001b[0m \u001b[0mcreate_graph\u001b[0m\u001b[0;34m,\u001b[0m\u001b[0;34m\u001b[0m\u001b[0;34m\u001b[0m\u001b[0m\n\u001b[0;32m---> 89\u001b[0;31m         allow_unreachable=True)  # allow_unreachable flag\n\u001b[0m\u001b[1;32m     90\u001b[0m \u001b[0;34m\u001b[0m\u001b[0m\n\u001b[1;32m     91\u001b[0m \u001b[0;34m\u001b[0m\u001b[0m\n",
      "\u001b[0;31mKeyboardInterrupt\u001b[0m: "
     ]
    }
   ],
   "source": [
    "vanilla_loss_list = []\n",
    "vanilla_acc_list  = []\n",
    "vanilla_test_acc_list = []\n",
    "\n",
    "N_STEPS = len(train_loader)\n",
    "print(N_STEPS)\n",
    "\n",
    "#train network\n",
    "for j in range(N_EPOCHS):\n",
    "    for k, (images, labels) in enumerate(train_loader):\n",
    "        if (images.shape[0] < BATCH_SIZE):\n",
    "                break\n",
    "        #forward\n",
    "        labels = labels.to(device)\n",
    "        pred = model(images.to(device))\n",
    "        loss = criterion(pred, labels)\n",
    "        vanilla_loss_list.append(loss.item())\n",
    "\n",
    "        #backward\n",
    "        optimizer.zero_grad()\n",
    "        loss.backward()\n",
    "        optimizer.step()\n",
    "\n",
    "        #statictics\n",
    "        total = labels.size(0)\n",
    "        _, predicted = torch.max(pred.data, 1)\n",
    "\n",
    "        correct = (predicted == labels).sum().item()\n",
    "        vanilla_acc_list.append(correct / total)\n",
    "\n",
    "        if j % 4 == 0 and k == 0:\n",
    "            for i, (test_images, test_labels) in enumerate(test_loader):\n",
    "                if (i > 20 or test_images.shape[0] < BATCH_SIZE):\n",
    "                    break\n",
    "                test_labels = test_labels.to(device)\n",
    "                pred = model(test_images.to(device))\n",
    "                optimizer.step()\n",
    "\n",
    "                #statictics\n",
    "                total = test_labels.size(0)\n",
    "                _, predicted = torch.max(pred.data, 1)\n",
    "\n",
    "                correct = (predicted == test_labels).sum().item()\n",
    "                vanilla_test_acc_list.append(correct / total)\n",
    "                \n",
    "            print(\"***stat_block***\")\n",
    "            print(\"Epoch: \", j, \"Step: \", k, \"Loss: \", loss.item())\n",
    "            print(\"Train_acc: \", (sum(vanilla_acc_list) / len(vanilla_acc_list)) * 100)\n",
    "            print(\"Test_acc: \", (sum(vanilla_test_acc_list) / len(vanilla_test_acc_list)) * 100)"
   ]
  },
  {
   "cell_type": "code",
   "execution_count": 28,
   "metadata": {},
   "outputs": [
    {
     "name": "stderr",
     "output_type": "stream",
     "text": [
      "/home/daha-kot/anaconda3/envs/py36/lib/python3.6/site-packages/ipykernel_launcher.py:3: DeprecationWarning: object of type <class 'float'> cannot be safely interpreted as an integer.\n",
      "  This is separate from the ipykernel package so we can avoid doing imports until\n",
      "/home/daha-kot/anaconda3/envs/py36/lib/python3.6/site-packages/ipykernel_launcher.py:5: DeprecationWarning: object of type <class 'float'> cannot be safely interpreted as an integer.\n",
      "  \"\"\"\n"
     ]
    },
    {
     "data": {
      "image/png": "[encoded data removed]",
      "text/plain": [
       "<Figure size 432x288 with 1 Axes>"
      ]
     },
     "metadata": {
      "needs_background": "light"
     },
     "output_type": "display_data"
    }
   ],
   "source": [
    "plt.figure()\n",
    "plt.plot([i for i in range(len(acc_list)//20)], acc_list[:(len(acc_list)//20)], label = 'vae_train_acc')\n",
    "plt.plot(np.linspace(0, len(acc_list)//20, len(test_acc_list)/20), test_acc_list[:len(test_acc_list)//20], label = 'vae_test_acc')\n",
    "plt.plot([i for i in range(len(vanilla_acc_list)//20)], vanilla_acc_list[:len(vanilla_acc_list)//20], label = 'xav_train_acc')\n",
    "plt.plot(np.linspace(0, len(vanilla_acc_list)/20, len(vanilla_test_acc_list)/20), vanilla_test_acc_list[:len(vanilla_test_acc_list)//20], label = 'xav_test_acc')\n",
    "\n",
    "plt.xlabel('iter')\n",
    "plt.ylabel('accuracy')\n",
    "plt.legend()\n",
    "\n",
    "plt.show()"
   ]
  },
  {
   "cell_type": "code",
   "execution_count": null,
   "metadata": {},
   "outputs": [],
   "source": []
  },
  {
   "cell_type": "code",
   "execution_count": null,
   "metadata": {},
   "outputs": [],
   "source": []
  }
 ],
 "metadata": {
  "colab": {
   "name": "hundred_networks.ipynb",
   "provenance": [],
   "version": "0.3.2"
  },
  "kernelspec": {
   "display_name": "Python 3",
   "language": "python",
   "name": "python3"
  },
  "language_info": {
   "codemirror_mode": {
    "name": "ipython",
    "version": 3
   },
   "file_extension": ".py",
   "mimetype": "text/x-python",
   "name": "python",
   "nbconvert_exporter": "python",
   "pygments_lexer": "ipython3",
   "version": "3.6.8"
  }
 },
 "nbformat": 4,
 "nbformat_minor": 1
}
