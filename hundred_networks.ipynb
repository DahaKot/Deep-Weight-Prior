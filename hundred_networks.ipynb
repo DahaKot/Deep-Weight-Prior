{
  "nbformat": 4,
  "nbformat_minor": 0,
  "metadata": {
    "colab": {
      "name": "hundred_networks.ipynb",
      "version": "0.3.2",
      "provenance": []
    },
    "kernelspec": {
      "display_name": "Python 3",
      "language": "python",
      "name": "python3"
    }
  },
  "cells": [
    {
      "metadata": {
        "id": "7xYI7HXnHk0S",
        "colab_type": "code",
        "colab": {}
      },
      "cell_type": "code",
      "source": [
        "import torch\n",
        "import torch.nn as nn\n",
        "import torch.nn.functional as F\n",
        "from torch.utils.data import DataLoader\n",
        "import torchvision\n",
        "import torchvision.transforms as tt\n",
        "import matplotlib.pyplot as plt"
      ],
      "execution_count": 0,
      "outputs": []
    },
    {
      "metadata": {
        "id": "wsW8AKUuHk0l",
        "colab_type": "code",
        "colab": {}
      },
      "cell_type": "code",
      "source": [
        "N_NETWORKS = 100\n",
        "BATCH_SIZE = 60\n",
        "N_EPOCHS   = 30"
      ],
      "execution_count": 0,
      "outputs": []
    },
    {
      "metadata": {
        "id": "55FMLtDJHk0u",
        "colab_type": "code",
        "colab": {}
      },
      "cell_type": "code",
      "source": [
        "DATA_PATH = 'home/'\n",
        "MODEL_STORE_PATH = 'home/model_'\n",
        "model_paths = []\n",
        "for i in range(100):\n",
        "    model_paths.append(MODEL_STORE_PATH + str(i) + '.pt')\n",
        "    open(model_paths[i], \"w\")"
      ],
      "execution_count": 0,
      "outputs": []
    },
    {
      "metadata": {
        "id": "nFT1DkRTHk07",
        "colab_type": "code",
        "colab": {}
      },
      "cell_type": "code",
      "source": [
        "#transform data to tensor and normalize (values state for MNIST!)\n",
        "trans = tt.Compose([tt.ToTensor(), tt.Normalize((0.1307,), (0.3081,))]) \n",
        "\n",
        "train_dataset = torchvision.datasets.MNIST(root=DATA_PATH, train=True,  transform=trans, download=True) \n",
        "test_dataset  = torchvision.datasets.MNIST(root=DATA_PATH, train=False, transform=trans)\n",
        "print(len(train_dataset))\n",
        "\n",
        "train_loader = DataLoader(dataset=train_dataset, batch_size=BATCH_SIZE, shuffle=True) \n",
        "test_loader  = DataLoader(dataset=test_dataset,  batch_size=BATCH_SIZE, shuffle=False)"
      ],
      "execution_count": 0,
      "outputs": []
    },
    {
      "metadata": {
        "id": "hasw1qZ9Hk1E",
        "colab_type": "code",
        "colab": {}
      },
      "cell_type": "code",
      "source": [
        "class Flatten(nn.Module):\n",
        "    def __init__(self):\n",
        "        super(Flatten, self).__init__()\n",
        "        \n",
        "    def forward(self, x):\n",
        "        return x.view(BATCH_SIZE, -1)"
      ],
      "execution_count": 0,
      "outputs": []
    },
    {
      "metadata": {
        "id": "gOn6BLw1Hk1P",
        "colab_type": "code",
        "colab": {}
      },
      "cell_type": "code",
      "source": [
        "class FConvMNIST(nn.Module):\n",
        "    def __init__(self, seq, clf):\n",
        "        super(FConvMNIST, self).__init__()\n",
        "        self.seq = seq\n",
        "        self.clf = clf\n",
        "        \n",
        "    def forward(self, x):\n",
        "        return self.clf(self.seq(x)) "
      ],
      "execution_count": 0,
      "outputs": []
    },
    {
      "metadata": {
        "id": "f2Ocyzk3Hk1b",
        "colab_type": "code",
        "colab": {}
      },
      "cell_type": "code",
      "source": [
        "#architecture of the network copied from the article\n",
        "seq = nn.Sequential(\n",
        "    nn.Conv2d(1, 256, kernel_size=(7, 7), stride=(1, 1)),\n",
        "    nn.LeakyReLU(negative_slope=0.01),\n",
        "    nn.MaxPool2d(kernel_size=2,stride=2, padding=0, dilation=1, ceil_mode=False),\n",
        "    nn.Conv2d(256, 512, kernel_size=(5, 5), stride=(1, 1)),\n",
        "    nn.LeakyReLU(negative_slope=0.01),\n",
        "    nn.MaxPool2d(kernel_size=2,stride=2, padding=0, dilation=1, ceil_mode=False),\n",
        "    Flatten()\n",
        ")\n",
        "clf = nn.Linear(in_features=4608, out_features=10, bias=True)"
      ],
      "execution_count": 0,
      "outputs": []
    },
    {
      "metadata": {
        "id": "DAMGrwDSHk1p",
        "colab_type": "code",
        "colab": {}
      },
      "cell_type": "code",
      "source": [
        "model = FConvMNIST(seq, clf)\n",
        "criterion = nn.CrossEntropyLoss()\n",
        "optimizer = torch.optim.Adam(model.parameters(), lr=1e-3, weight_decay=1e-3)"
      ],
      "execution_count": 0,
      "outputs": []
    },
    {
      "metadata": {
        "id": "EuvQlzkZHk12",
        "colab_type": "code",
        "colab": {}
      },
      "cell_type": "code",
      "source": [
        "loss_list = []\n",
        "acc_list  = []\n",
        "N_STEPS = len(train_loader)\n",
        "print(N_STEPS)\n",
        "\n",
        "#train network\n",
        "for i in range(N_NETWORKS):\n",
        "    for j in range(N_EPOCHS):\n",
        "        for k, (images, labels) in enumerate(train_loader):\n",
        "            #forward\n",
        "            pred = model(images)\n",
        "            loss = criterion(pred, labels)\n",
        "            loss_list.append(loss.item())\n",
        "            \n",
        "            #backward\n",
        "            optimizer.zero_grad()\n",
        "            loss.backward()\n",
        "            optimizer.step()\n",
        "        \n",
        "            #statictics\n",
        "            total = labels.size(0)\n",
        "            _, predicted = torch.max(pred.data, 1)\n",
        "            \n",
        "            correct = (predicted == labels).sum().item()\n",
        "            acc_list.append(correct / total)\n",
        "\n",
        "            if k % 100 == 0:\n",
        "                print('Network {}/{} Epoch {}/{}, Step {}/{}, Loss: {}, Accuracy: {}%'\n",
        "                      .format(i, N_NETWORKS, j, N_EPOCHS, k, N_STEPS, loss.item(),\n",
        "                              (sum(acc_list) / len(acc_list)) * 100))\n",
        "                \n",
        "    torch.save(model.state_dict(), model_paths[i])\n",
        "    close(model_paths[i], \"w\")\n",
        "    model = FConvMNIST(seq, clf)\n",
        "    "
      ],
      "execution_count": 0,
      "outputs": []
    },
    {
      "metadata": {
        "id": "kSFyGeKxHk3G",
        "colab_type": "code",
        "colab": {
          "base_uri": "https://localhost:8080/",
          "height": 347
        },
        "outputId": "17f45a28-c4ac-4898-860d-41631dd4709d"
      },
      "cell_type": "code",
      "source": [
        "parameters = model.parameters()\n",
        "\n",
        "#get 256 tensors with shape [1, 7, 7]\n",
        "layer_weights = next(parameters)\n",
        "\n",
        "#draw one weight\n",
        "imgplot = plt.imshow(layer_weights[0].view(7, -1).data)"
      ],
      "execution_count": 21,
      "outputs": [
        {
          "output_type": "display_data",
          "data": {
            "image/png": "[encoded data removed]",
            "text/plain": [
              "<Figure size 576x396 with 1 Axes>"
            ]
          },
          "metadata": {
            "tags": []
          }
        }
      ]
    },
    {
      "metadata": {
        "id": "RSV3xGwXHk3Z",
        "colab_type": "code",
        "colab": {}
      },
      "cell_type": "code",
      "source": [
        ""
      ],
      "execution_count": 0,
      "outputs": []
    }
  ]
}