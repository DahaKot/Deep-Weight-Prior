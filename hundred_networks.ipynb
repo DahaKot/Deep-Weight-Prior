{
 "cells": [
  {
   "cell_type": "code",
   "execution_count": null,
   "metadata": {},
   "outputs": [],
   "source": [
    "import torch\n",
    "import torch.nn as nn\n",
    "import torch.nn.functional as F\n",
    "from torch.utils.data import DataLoader\n",
    "import torchvision\n",
    "import torchvision.transforms as tt\n",
    "import matplotlib.pyplot as plt"
   ]
  },
  {
   "cell_type": "code",
   "execution_count": null,
   "metadata": {},
   "outputs": [],
   "source": [
    "N_NETWORKS = 100\n",
    "BATCH_SIZE = 128\n",
    "N_EPOCHS   = 100"
   ]
  },
  {
   "cell_type": "code",
   "execution_count": null,
   "metadata": {},
   "outputs": [],
   "source": [
    "DATA_PATH = '~/Destkop/dwp/MNIST'\n",
    "MODEL_STORE_PATH = '~/Destkop/dwp/model'"
   ]
  },
  {
   "cell_type": "code",
   "execution_count": null,
   "metadata": {},
   "outputs": [],
   "source": [
    "#transform data to tensor and normalize (values state for MNIST!)\n",
    "trans = tt.Compose([tt.ToTensor(), tt.Normalize((0.1307,), (0.3081,))]) \n",
    "\n",
    "train_dataset = torchvision.datasets.MNIST(root=DATA_PATH, train=True,  transform=trans, download=True) \n",
    "test_dataset  = torchvision.datasets.MNIST(root=DATA_PATH, train=False, transform=trans)\n",
    "\n",
    "train_loader = DataLoader(dataset=train_dataset, batch_size=BATCH_SIZE, shuffle=True) \n",
    "test_loader  = DataLoader(dataset=test_dataset,  batch_size=BATCH_SIZE, shuffle=False)"
   ]
  },
  {
   "cell_type": "code",
   "execution_count": null,
   "metadata": {},
   "outputs": [],
   "source": [
    "class Flatten(nn.Module):\n",
    "    def __init__(self):\n",
    "        super(Flatten, self).__init__()\n",
    "        \n",
    "    def forward(self, x):\n",
    "        return x.view(BATCH_SIZE, -1)"
   ]
  },
  {
   "cell_type": "code",
   "execution_count": null,
   "metadata": {},
   "outputs": [],
   "source": [
    "class FConvMNIST(nn.Module):\n",
    "    def __init__(self, seq, clf):\n",
    "        super(FConvMNIST, self).__init__()\n",
    "        self.seq = seq\n",
    "        self.clf = clf\n",
    "        \n",
    "    def forward(self, x):\n",
    "        return self.clf(self.seq(x)) "
   ]
  },
  {
   "cell_type": "code",
   "execution_count": null,
   "metadata": {},
   "outputs": [],
   "source": [
    "#architecture of the network copied from the article\n",
    "seq = nn.Sequential(\n",
    "    nn.Conv2d(1, 256, kernel_size=(7, 7), stride=(1, 1)),\n",
    "    nn.LeakyReLU(negative_slope=0.01),\n",
    "    nn.MaxPool2d(kernel_size=2,stride=2, padding=0, dilation=1, ceil_mode=False),\n",
    "    nn.Conv2d(256, 512, kernel_size=(5, 5), stride=(1, 1)),\n",
    "    nn.LeakyReLU(negative_slope=0.01),\n",
    "    nn.MaxPool2d(kernel_size=2,stride=2, padding=0, dilation=1, ceil_mode=False),\n",
    "    Flatten()\n",
    ")\n",
    "clf = nn.Linear(in_features=4608, out_features=10, bias=True)"
   ]
  },
  {
   "cell_type": "code",
   "execution_count": null,
   "metadata": {},
   "outputs": [],
   "source": [
    "model = FConvMNIST(seq, clf)\n",
    "criterion = nn.CrossEntropyLoss()\n",
    "optimizer = torch.optim.Adam(model.parameters(), lr=1e-3, weight_decay=1e-3)"
   ]
  },
  {
   "cell_type": "code",
   "execution_count": null,
   "metadata": {},
   "outputs": [],
   "source": [
    "loss_list = []\n",
    "acc_list  = []\n",
    "N_STEPS = len(train_loader)\n",
    "\n",
    "#train network\n",
    "for i in range(N_NETWORKS):\n",
    "    for j in range(N_EPOCHS):\n",
    "        for k, (images, labels) in enumerate(train_loader):\n",
    "            #forward\n",
    "            pred = model(images)\n",
    "            loss = criterion(pred, labels)\n",
    "            loss_list.append(loss.item())\n",
    "            \n",
    "            #backward\n",
    "            optimizer.zero_grad()\n",
    "            loss.backward()\n",
    "            optimizer.step()\n",
    "        \n",
    "            #statictics\n",
    "            total = labels.size(0)\n",
    "            _, predicted = torch.max(pred.data, 1)\n",
    "            \n",
    "            correct = (predicted == labels).sum().item()\n",
    "            acc_list.append(correct / total)\n",
    "\n",
    "            if k % 50 == 0:\n",
    "                print('Network {}/{} Epoch {}/{}, Step {}/{}, Loss: {}, Accuracy: {}%'\n",
    "                      .format(i, N_NETWORKS, j, N_EPOCHS, k, N_STEPS, loss.item(),\n",
    "                              (correct / total) * 100))"
   ]
  },
  {
   "cell_type": "code",
   "execution_count": null,
   "metadata": {},
   "outputs": [],
   "source": [
    "#count accuracy on test dataset\n",
    "with torch.no_grad():\n",
    "    correct = 0\n",
    "    total = 0\n",
    "    for images, labels in test_loader:\n",
    "        pred = model(images)\n",
    "        _, predicted = torch.max(pred.data, 1)\n",
    "        total += labels.size(0)\n",
    "        correct += (predicted == labels).sum().item()\n",
    "\n",
    "print(\"Test accuracy: \", (correct / total) * 100, \"%\")"
   ]
  },
  {
   "cell_type": "code",
   "execution_count": null,
   "metadata": {},
   "outputs": [],
   "source": [
    "parameters = model.parameters()\n",
    "\n",
    "#get 256 tensors with shape [1, 7, 7]\n",
    "layer_weights = next(parameters)\n",
    "\n",
    "#draw one weight\n",
    "imgplot = plt.imshow(layer_weights[0].view(7, -1).data)"
   ]
  },
  {
   "cell_type": "code",
   "execution_count": null,
   "metadata": {},
   "outputs": [],
   "source": [
    "import csv\n",
    "import io\n",
    "\n",
    "file = open(\"weights.csv\", \"w\")\n",
    "\n",
    "#to improve\n",
    "for i in range(256):\n",
    "    csv.writer(file).writerows(layer_weights[i].data.numpy())\n",
    "    \n",
    "file.close()"
   ]
  },
  {
   "cell_type": "code",
   "execution_count": null,
   "metadata": {},
   "outputs": [],
   "source": []
  }
 ],
 "metadata": {
  "kernelspec": {
   "display_name": "Python 3",
   "language": "python",
   "name": "python3"
  },
  "language_info": {
   "codemirror_mode": {
    "name": "ipython",
    "version": 3
   },
   "file_extension": ".py",
   "mimetype": "text/x-python",
   "name": "python",
   "nbconvert_exporter": "python",
   "pygments_lexer": "ipython3",
   "version": "3.7.1"
  }
 },
 "nbformat": 4,
 "nbformat_minor": 2
}
