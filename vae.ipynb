{
 "cells": [
  {
   "cell_type": "code",
   "execution_count": 1,
   "metadata": {},
   "outputs": [],
   "source": [
    "import torch\n",
    "import torch.nn as nn\n",
    "import torchvision\n",
    "import numpy as np\n",
    "from torch.distributions.normal import Normal\n",
    "from torch.utils.data import DataLoader\n",
    "import torchvision.transforms as tt"
   ]
  },
  {
   "cell_type": "code",
   "execution_count": 2,
   "metadata": {},
   "outputs": [],
   "source": [
    "class Flatten(nn.Module):\n",
    "    def __init__(self):\n",
    "        super(Flatten, self).__init__()\n",
    "        \n",
    "    def forward(self, x):\n",
    "        return x.view(BATCH_SIZE, -1)\n",
    "    \n",
    "class Conv_Net(nn.Module):\n",
    "    def __init__(self, seq, clf):\n",
    "        super(Conv_Net, self).__init__()\n",
    "        self.seq = seq\n",
    "        self.clf = clf\n",
    "        \n",
    "    def forward(self, x):\n",
    "        return self.clf(self.seq(x)) \n",
    "\n",
    "def build_new_net():\n",
    "    #architecture of the network copied from the article\n",
    "    seq = nn.Sequential(\n",
    "        nn.Conv2d(1, 256, kernel_size=(7, 7), stride=(1, 1)),\n",
    "        nn.LeakyReLU(negative_slope=0.01),\n",
    "        nn.MaxPool2d(kernel_size=2,stride=2, padding=0, dilation=1, ceil_mode=False),\n",
    "        nn.Conv2d(256, 512, kernel_size=(5, 5), stride=(1, 1)),\n",
    "        nn.LeakyReLU(negative_slope=0.01),\n",
    "        nn.MaxPool2d(kernel_size=2,stride=2, padding=0, dilation=1, ceil_mode=False),\n",
    "        Flatten()\n",
    "    )\n",
    "    clf = nn.Linear(in_features=4608, out_features=10, bias=True)\n",
    "    return seq, clf"
   ]
  },
  {
   "cell_type": "code",
   "execution_count": 3,
   "metadata": {},
   "outputs": [],
   "source": [
    "#copied numbers from the article\n",
    "N_EPOCHS = 280\n",
    "Z_DIM = 2\n",
    "STAT_STEP = 10\n",
    "BATCH_SIZE = 32\n",
    "\n",
    "device = 'cpu'"
   ]
  },
  {
   "cell_type": "code",
   "execution_count": 4,
   "metadata": {},
   "outputs": [],
   "source": [
    "#read data\n",
    "PATH = './models_notMNIST/model_'\n",
    "weights_paths = []\n",
    "learned_models = []\n",
    "for i in range(100):\n",
    "    #reaally not effective\n",
    "    seq, clf = build_new_net()\n",
    "    model = Conv_Net(seq, clf)\n",
    "    weights_paths.append(PATH + str(i) + '.pt')\n",
    "    \n",
    "    model.load_state_dict(torch.load(weights_paths[i], map_location = 'cpu'))\n",
    "    learned_models.append(model)"
   ]
  },
  {
   "cell_type": "code",
   "execution_count": 5,
   "metadata": {},
   "outputs": [
    {
     "name": "stdout",
     "output_type": "stream",
     "text": [
      "Sequential(\n",
      "  (0): Conv2d(1, 256, kernel_size=(7, 7), stride=(1, 1))\n",
      "  (1): LeakyReLU(negative_slope=0.01)\n",
      "  (2): MaxPool2d(kernel_size=2, stride=2, padding=0, dilation=1, ceil_mode=False)\n",
      "  (3): Conv2d(256, 512, kernel_size=(5, 5), stride=(1, 1))\n",
      "  (4): LeakyReLU(negative_slope=0.01)\n",
      "  (5): MaxPool2d(kernel_size=2, stride=2, padding=0, dilation=1, ceil_mode=False)\n",
      "  (6): Flatten()\n",
      ")\n"
     ]
    }
   ],
   "source": [
    "weights = []\n",
    "for model in learned_models:\n",
    "    weights.append(model.seq)\n",
    "    \n",
    "print(weights[0])"
   ]
  },
  {
   "cell_type": "code",
   "execution_count": 6,
   "metadata": {},
   "outputs": [],
   "source": [
    "weights[0][0].weight.size()\n",
    "for i in range(len(weights)):\n",
    "    weights[i] = weights[i][0].weight"
   ]
  },
  {
   "cell_type": "code",
   "execution_count": 7,
   "metadata": {},
   "outputs": [
    {
     "data": {
      "text/plain": [
       "<matplotlib.image.AxesImage at 0x7fe255c94c50>"
      ]
     },
     "execution_count": 7,
     "metadata": {},
     "output_type": "execute_result"
    }
   ],
   "source": [
    "import matplotlib.pyplot as plt\n",
    "\n",
    "plt.imshow(weights[99][10].detach().numpy().reshape((7, 7)))"
   ]
  },
  {
   "cell_type": "code",
   "execution_count": 8,
   "metadata": {},
   "outputs": [],
   "source": [
    "train_loader = DataLoader(dataset=weights, batch_size=BATCH_SIZE, shuffle=True) "
   ]
  },
  {
   "cell_type": "code",
   "execution_count": 9,
   "metadata": {},
   "outputs": [],
   "source": [
    "#cuda!\n",
    "#test on colab at least one iteration\n",
    "class VAE(nn.Module):\n",
    "    def __init__(self, D, d = Z_DIM):\n",
    "        super(VAE, self).__init__()\n",
    "        self.encoder = Encoder(d, D)\n",
    "        self.decoder = Decoder(d, D)\n",
    "        \n",
    "        #d - for latent space\n",
    "        self.d = d\n",
    "        self.D = D\n",
    "        \n",
    "    def count_vlb(self, X, i):\n",
    "        #get parameters of z distribution\n",
    "        mu_z, var_z = self.encoder(X)\n",
    "\n",
    "        #sample latent(mu_z, var_z)\n",
    "        z = Normal(torch.zeros(mu_z.size()), torch.ones(mu_z.size())).sample()\n",
    "        z = mu_z + torch.sqrt(var_z) * nn.Parameter(z, requires_grad=False)\n",
    "              \n",
    "        #get parameters of x_hat distribution\n",
    "        mu_x, var_x = self.decoder(z)\n",
    "                \n",
    "        normal = Normal(mu_x, torch.sqrt(var_x))\n",
    "        diagn = torch.distributions.Independent(normal, 1)\n",
    "         \n",
    "        #count loss\n",
    "        latent_loss = 0.5 * torch.sum(var_x + mu_x**2 - torch.log(var_x+1e-12) - 1)\n",
    "        reconstruction_loss = diagn.log_prob(X)\n",
    "        \n",
    "        #coefs are to be chosen\n",
    "        return -(torch.sum(reconstruction_loss) - latent_loss), latent_loss, torch.sum(reconstruction_loss)\n",
    "                   \n",
    "    def generate_samples(self, num_samples):\n",
    "        z = torch.FloatTensor(np.random.normal(0, 1, size=[num_samples, self.d, 1, 1]))\n",
    "        return self.decoder(z)"
   ]
  },
  {
   "cell_type": "code",
   "execution_count": 10,
   "metadata": {},
   "outputs": [],
   "source": [
    "class Encoder(nn.Module):\n",
    "    def __init__(self, d, D):\n",
    "        super(Encoder, self).__init__()\n",
    "        self.D = D\n",
    "        self.d = d\n",
    "        \n",
    "        self.seq = nn.Sequential(\n",
    "            nn.Conv2d(1, 32, kernel_size=(3, 3), stride=(1, 1)),\n",
    "            nn.ELU(alpha=1.0),\n",
    "            nn.Conv2d(32, 64, kernel_size=(3, 3), stride=(1, 1)),\n",
    "            nn.ELU(alpha=1.0),\n",
    "            nn.Conv2d(64, 64, kernel_size=(3, 3), stride=(1, 1)),\n",
    "            nn.ELU(alpha=1.0)\n",
    "        )\n",
    "        \n",
    "        self.fc_mu = nn.Conv2d(64, Z_DIM, kernel_size=(1, 1), stride=(1, 1))\n",
    "        self.fc_var = nn.Sequential(\n",
    "            nn.Conv2d(64, 1, kernel_size=(1, 1), stride=(1, 1)),\n",
    "            nn.Softplus()\n",
    "        )\n",
    "        \n",
    "    def forward(self, X):\n",
    "        X = self.seq(X)\n",
    "        \n",
    "        mu = self.fc_mu(X)\n",
    "        var = self.fc_var(X)\n",
    "        \n",
    "        return mu, var"
   ]
  },
  {
   "cell_type": "code",
   "execution_count": 11,
   "metadata": {},
   "outputs": [],
   "source": [
    "class Decoder(nn.Module):\n",
    "    def __init__(self, d, D):\n",
    "        super(Decoder, self).__init__()\n",
    "        self.D = D\n",
    "        self.d = d\n",
    "        \n",
    "        self.seq = nn.Sequential(\n",
    "            nn.ConvTranspose2d(Z_DIM, 64, kernel_size=(3, 3), stride=(1, 1)),\n",
    "            nn.ELU(alpha=1.0),\n",
    "            nn.ConvTranspose2d(64, 64, kernel_size=(3, 3), stride=(1, 1)),\n",
    "            nn.ELU(alpha=1.0),\n",
    "            nn.ConvTranspose2d(64, 32, kernel_size=(3, 3), stride=(1, 1)),\n",
    "            nn.ELU(alpha=1.0)\n",
    "        )\n",
    "        self.fc_mu = nn.Conv2d(32, 1, kernel_size=(1, 1), stride=(1, 1))\n",
    "        self.fc_var = nn.Sequential(\n",
    "            nn.Conv2d(32, 1, kernel_size=(1, 1), stride=(1, 1)),\n",
    "            nn.Softplus()\n",
    "        )\n",
    "        \n",
    "    def forward(self, X):\n",
    "        X = self.seq(X)\n",
    "        \n",
    "        mu = self.fc_mu(X)\n",
    "        var = self.fc_var(X)\n",
    "        \n",
    "        return mu, var"
   ]
  },
  {
   "cell_type": "code",
   "execution_count": 12,
   "metadata": {},
   "outputs": [],
   "source": [
    "#Adam optimizer with linear learning rate decay from 1e-3 to 0.\n",
    "vae = VAE(49)\n",
    "optimizer = torch.optim.Adam(vae.parameters(), lr=1e-2)"
   ]
  },
  {
   "cell_type": "code",
   "execution_count": 13,
   "metadata": {},
   "outputs": [
    {
     "name": "stdout",
     "output_type": "stream",
     "text": [
      "4\n",
      "Epoch 0/280, Step 0/4, Loss: 312697.09375\n",
      "Epoch 10/280, Step 0/4, Loss: 217937.4375\n",
      "Epoch 20/280, Step 0/4, Loss: 200312.28125\n",
      "Epoch 30/280, Step 0/4, Loss: 194773.375\n",
      "Epoch 40/280, Step 0/4, Loss: 191277.765625\n",
      "Epoch 50/280, Step 0/4, Loss: 192764.5625\n",
      "Epoch 60/280, Step 0/4, Loss: 190384.234375\n",
      "Epoch 70/280, Step 0/4, Loss: 190619.65625\n",
      "Epoch 80/280, Step 0/4, Loss: 189891.46875\n",
      "Epoch 90/280, Step 0/4, Loss: 189914.421875\n",
      "Epoch 100/280, Step 0/4, Loss: 189684.140625\n",
      "Epoch 110/280, Step 0/4, Loss: 189095.625\n",
      "Epoch 120/280, Step 0/4, Loss: 189372.625\n",
      "Epoch 130/280, Step 0/4, Loss: 189089.515625\n",
      "Epoch 140/280, Step 0/4, Loss: 189601.0\n",
      "Epoch 150/280, Step 0/4, Loss: 189273.90625\n",
      "Epoch 160/280, Step 0/4, Loss: 188628.375\n",
      "Epoch 170/280, Step 0/4, Loss: 190330.609375\n",
      "Epoch 180/280, Step 0/4, Loss: 188461.671875\n",
      "Epoch 190/280, Step 0/4, Loss: 189450.078125\n",
      "Epoch 200/280, Step 0/4, Loss: 188419.671875\n",
      "Epoch 210/280, Step 0/4, Loss: 187864.390625\n",
      "Epoch 220/280, Step 0/4, Loss: 188105.5625\n",
      "Epoch 230/280, Step 0/4, Loss: 187743.734375\n",
      "Epoch 240/280, Step 0/4, Loss: 187973.96875\n",
      "Epoch 250/280, Step 0/4, Loss: 187642.9375\n",
      "Epoch 260/280, Step 0/4, Loss: 187605.828125\n",
      "Epoch 270/280, Step 0/4, Loss: 187700.78125\n"
     ]
    }
   ],
   "source": [
    "loss_list = []\n",
    "kl_loss_list = []\n",
    "l2_loss_list = []\n",
    "N_STEPS = len(train_loader)\n",
    "print(N_STEPS)\n",
    "\n",
    "#train network\n",
    "for j in range(N_EPOCHS):\n",
    "    for k, images in enumerate(train_loader):\n",
    "        #forward\n",
    "        images = images.view(images.size()[0]*images.size()[1], 1, 7, -1)\n",
    "        images = images.to(device)\n",
    "        vlb, kl, l2 = vae.count_vlb(images, j*N_EPOCHS + k)\n",
    "\n",
    "        #backward\n",
    "        optimizer.zero_grad()\n",
    "        vlb.backward()\n",
    "        optimizer.step()\n",
    "        \n",
    "        if j % 50 == 0:\n",
    "            optimizer = torch.optim.Adam(vae.parameters(), lr=1e-2*(1 - j/N_EPOCHS))\n",
    "\n",
    "        loss_list.append(vlb.item())\n",
    "        kl_loss_list.append(kl)\n",
    "        l2_loss_list.append(l2)\n",
    "        \n",
    "        if k % STAT_STEP == 0 and j % 10 == 0:\n",
    "            print('Epoch {}/{}, Step {}/{}, Loss: {}'\n",
    "                  .format(j, N_EPOCHS, k, N_STEPS, vlb.item()))"
   ]
  },
  {
   "cell_type": "code",
   "execution_count": 14,
   "metadata": {},
   "outputs": [
    {
     "data": {
      "image/png": "[encoded data removed]",
      "text/plain": [
       "<Figure size 432x288 with 1 Axes>"
      ]
     },
     "metadata": {
      "needs_background": "light"
     },
     "output_type": "display_data"
    }
   ],
   "source": [
    "import matplotlib.pyplot as plt\n",
    "\n",
    "plt.figure()\n",
    "plt.plot([i for i in range(len(loss_list))], loss_list, label = 'loss')\n",
    "plt.plot([i for i in range(len(loss_list))], kl_loss_list, label = 'KL')\n",
    "plt.plot([i for i in range(len(loss_list))], l2_loss_list, label = 'l2')\n",
    "\n",
    "plt.xlabel('iter')\n",
    "plt.ylabel('loss')\n",
    "plt.legend()\n",
    "\n",
    "plt.show()"
   ]
  },
  {
   "cell_type": "code",
   "execution_count": 15,
   "metadata": {},
   "outputs": [],
   "source": [
    "torch.save(vae.state_dict(), \"vae_weights.pth\")"
   ]
  },
  {
   "cell_type": "code",
   "execution_count": 16,
   "metadata": {},
   "outputs": [
    {
     "name": "stdout",
     "output_type": "stream",
     "text": [
      "[10.41625  14.148709 10.365231 ... 10.655014  9.808436 10.904592]\n"
     ]
    },
    {
     "data": {
      "image/png": "[encoded data removed]",
      "text/plain": [
       "<Figure size 864x720 with 1 Axes>"
      ]
     },
     "metadata": {
      "needs_background": "light"
     },
     "output_type": "display_data"
    }
   ],
   "source": [
    "vae.load_state_dict(torch.load(\"vae_weights.pth\"))\n",
    "\n",
    "mu_list = []\n",
    "\n",
    "with torch.no_grad():\n",
    "    for k, images in enumerate(train_loader):\n",
    "        images = images.view(images.size()[0]*images.size()[1], 1, 7, -1)\n",
    "        images = images.to(device)\n",
    "        \n",
    "        mu, var  = vae.encoder(images)\n",
    "        mu = mu.cpu().numpy()\n",
    "        mu_list.append(mu)\n",
    "\n",
    "mu = np.concatenate(mu_list)\n",
    "mu = np.squeeze(mu, axis = 2)\n",
    "mu = np.squeeze(mu, axis = 2)\n",
    "\n",
    "print(mu[:, 0])\n",
    "\n",
    "plt.figure(figsize=(12, 10))\n",
    "\n",
    "plt.scatter(mu[:, 0], mu[:, 1], marker = '+')\n",
    "\n",
    "plt.grid()\n",
    "    "
   ]
  },
  {
   "cell_type": "code",
   "execution_count": 17,
   "metadata": {},
   "outputs": [
    {
     "data": {
      "text/plain": [
       "<matplotlib.image.AxesImage at 0x7fe25184d860>"
      ]
     },
     "execution_count": 17,
     "metadata": {},
     "output_type": "execute_result"
    },
    {
     "data": {
      "image/png": "[encoded data removed]",
      "text/plain": [
       "<Figure size 432x288 with 1 Axes>"
      ]
     },
     "metadata": {
      "needs_background": "light"
     },
     "output_type": "display_data"
    }
   ],
   "source": [
    "with torch.no_grad():\n",
    "    mu_x, _ = vae.generate_samples(100)\n",
    "    mu_x = mu_x.detach().cpu().numpy()\n",
    "    \n",
    "plt.imshow(mu_x[50].reshape((7, 7)))"
   ]
  },
  {
   "cell_type": "code",
   "execution_count": null,
   "metadata": {},
   "outputs": [],
   "source": []
  },
  {
   "cell_type": "code",
   "execution_count": 18,
   "metadata": {},
   "outputs": [
    {
     "name": "stdout",
     "output_type": "stream",
     "text": [
      "tensor([[ 10.,   2.,  10.],\n",
      "        [  3.,  10.,  -1.],\n",
      "        [  1., -10.,  10.]])\n",
      "tensor([[   2.,    2.,   10.],\n",
      "        [   3.,    2.,  100.],\n",
      "        [   1.,   10.,    2.]])\n"
     ]
    }
   ],
   "source": [
    "mu = torch.eye(3, 3)*10\n",
    "mu[0, 1] = 2\n",
    "mu[0, 2] = 10\n",
    "mu[1, 0] = 3\n",
    "mu[1, 2] = -1\n",
    "mu[2, 0] = 1\n",
    "mu[2, 1] = -10\n",
    "mu = mu\n",
    "print(mu)\n",
    "sigma = torch.eye(3, 3)*2\n",
    "sigma[0, 1] = 2\n",
    "sigma[0, 2] = 10\n",
    "sigma[1, 0] = 3\n",
    "sigma[1, 2] = 100\n",
    "sigma[2, 0] = 1\n",
    "sigma[2, 1] = 10\n",
    "print(sigma)\n",
    "K = 1"
   ]
  },
  {
   "cell_type": "raw",
   "metadata": {},
   "source": [
    "std_z = torch.from_numpy(np.random.normal(0, 1, size=[*sigma.size(), K])).type(mu.type())\n",
    "std_z = std_z.permute(0, 2, 1)\n",
    "z = mu[:, None, :] + torch.sqrt(sigma[:, None, :]) * nn.Parameter(std_z, requires_grad=False)\n",
    "print(z)\n",
    "print(z.mean())\n",
    "print(z.std())\n",
    "\n",
    "z = Normal(torch.zeros(3, 3), torch.ones(3, 3)).sample()\n",
    "z = mu + torch.sqrt(sigma) * z\n",
    "print(z)\n",
    "print(z.mean())\n",
    "print(z.std())"
   ]
  }
 ],
 "metadata": {
  "kernelspec": {
   "display_name": "Python 3",
   "language": "python",
   "name": "python3"
  },
  "language_info": {
   "codemirror_mode": {
    "name": "ipython",
    "version": 3
   },
   "file_extension": ".py",
   "mimetype": "text/x-python",
   "name": "python",
   "nbconvert_exporter": "python",
   "pygments_lexer": "ipython3",
   "version": "3.6.8"
  }
 },
 "nbformat": 4,
 "nbformat_minor": 2
}
